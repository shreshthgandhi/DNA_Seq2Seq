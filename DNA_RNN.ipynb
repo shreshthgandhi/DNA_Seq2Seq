{
 "cells": [
  {
   "cell_type": "code",
   "execution_count": 1,
   "metadata": {
    "collapsed": false
   },
   "outputs": [],
   "source": [
    "import tensorflow as tf\n",
    "import numpy as np\n",
    "import DNA_reader as reader\n",
    "import time"
   ]
  },
  {
   "cell_type": "code",
   "execution_count": 2,
   "metadata": {
    "collapsed": true
   },
   "outputs": [],
   "source": [
    "class SmallConfig(object):\n",
    "    \"\"\"Small Configuration\"\"\"\n",
    "    learning_rate = 1.0\n",
    "    max_grad_norm = 5\n",
    "    num_layers = 2\n",
    "    num_steps_encoder = 10\n",
    "    num_steps_decoder = 15\n",
    "    batch_size = 10\n",
    "    hidden_size = 200\n",
    "    max_epochs = 2\n",
    "    max_max_epochs = 5\n",
    "    lr_decay = 0.5\n",
    "    init_scale = 0.1\n",
    "    vocab_size = 8 # 3 extra tokens PAD,GO and EOS and 0 is unused\n",
    "\n",
    "def get_config(flag='small'):\n",
    "    if flag=='small':\n",
    "        return SmallConfig()"
   ]
  },
  {
   "cell_type": "markdown",
   "metadata": {},
   "source": [
    "# Input and Model classes"
   ]
  },
  {
   "cell_type": "code",
   "execution_count": 3,
   "metadata": {
    "collapsed": false
   },
   "outputs": [],
   "source": [
    "def data_type():\n",
    "    return tf.float32\n",
    "\n",
    "class DNA_input(object):\n",
    "    def __init__(self, config, data, name=None):\n",
    "        self.batch_size = batch_size = config.batch_size\n",
    "        self.num_steps_encoder = num_steps_encoder = config.num_steps_encoder\n",
    "        self.num_steps_decoder = num_steps_decoder = config.num_steps_decoder\n",
    "        self.epoch_size = len(data)//batch_size\n",
    "        (self.encoder_input, self.decoder_input,\n",
    "        self.decoder_targets) = reader.DNA_producer(data, config, name)\n",
    "\n",
    "class DNA_seq_model(object):\n",
    "    def __init__(self, is_training, config, input_):\n",
    "        self._input = input_\n",
    "        batch_size = input_.batch_size\n",
    "        num_steps_encoder = input_.num_steps_encoder\n",
    "        num_steps_decoder = input_.num_steps_decoder\n",
    "        num_layers = config.num_layers\n",
    "        size = config.hidden_size\n",
    "        vocab_size = config.vocab_size\n",
    "        \n",
    "        lstm_cell = tf.nn.rnn_cell.BasicLSTMCell(size, forget_bias=0.0, state_is_tuple=True)\n",
    "        cell = tf.nn.rnn_cell.MultiRNNCell([lstm_cell] * num_layers, state_is_tuple=True)\n",
    "        self._initial_state = cell.zero_state(batch_size, data_type())\n",
    "        \n",
    "        softmax_w = tf.get_variable(\"softmax_w\", [size, vocab_size], dtype=data_type())\n",
    "        softmax_b = tf.get_variable(\"softmax_b\", [vocab_size], dtype=data_type())\n",
    "\n",
    "        with tf.device(\"/cpu:0\"):\n",
    "            embedding = tf.get_variable(\n",
    "                    \"embedding\", [vocab_size, size], dtype=data_type())\n",
    "            encoder_inputs = tf.nn.embedding_lookup(embedding, input_.encoder_input)\n",
    "            decoder_inputs = tf.nn.embedding_lookup(embedding, input_.decoder_input)\n",
    "        \n",
    "        def loop(prev, _):\n",
    "            prev = tf.matmul(prev, softmax_w) + softmax_b\n",
    "            prev_symbol = tf.stop_gradient(tf.argmax(prev, 1))\n",
    "            return tf.nn.embedding_lookup(embedding, prev_symbol)\n",
    "        \n",
    "        encoder_outputs =[]\n",
    "        state = self._initial_state\n",
    "        with tf.variable_scope(\"RNN_encoder\"):\n",
    "            for time_step in range(num_steps_encoder):\n",
    "                if time_step > 0: tf.get_variable_scope().reuse_variables()\n",
    "                (cell_output, state) = cell(encoder_inputs[:, time_step, :], state)\n",
    "                encoder_outputs.append(cell_output)\n",
    "        self._encoded_state = state\n",
    "        decoder_inputs_list = tf.unpack(decoder_inputs, axis=1)\n",
    "        (decoder_outputs, state) = tf.nn.seq2seq.rnn_decoder(decoder_inputs_list, state, cell, \n",
    "                                                             loop_function=loop if not(is_training) else None)\n",
    "        decoder_output = tf.reshape(tf.concat(1, decoder_outputs), [-1, size])\n",
    "\n",
    "        logits = tf.matmul(decoder_output, softmax_w) + softmax_b\n",
    "        self._probabilities = tf.reshape(tf.nn.softmax(logits), [batch_size, num_steps_decoder, vocab_size])\n",
    "        \n",
    "        loss = tf.nn.seq2seq.sequence_loss_by_example(\n",
    "                [logits],\n",
    "                [tf.reshape(input_.decoder_targets, [-1])],\n",
    "                [tf.ones([batch_size * num_steps_decoder], dtype=data_type())])\n",
    "        self._cost = cost = tf.reduce_sum(loss) / batch_size\n",
    "        self._decoded_state = state\n",
    "        \n",
    "        if not is_training:\n",
    "            return\n",
    "\n",
    "        self._lr = tf.Variable(0.0, trainable=False)\n",
    "        tvars = tf.trainable_variables()\n",
    "        grads, _ = tf.clip_by_global_norm(tf.gradients(cost, tvars),config.max_grad_norm)\n",
    "        optimizer = tf.train.GradientDescentOptimizer(self._lr)\n",
    "        self._train_op = optimizer.apply_gradients(\n",
    "                zip(grads, tvars),\n",
    "                global_step=tf.contrib.framework.get_or_create_global_step())\n",
    "\n",
    "        self._new_lr = tf.placeholder(\n",
    "                tf.float32, shape=[], name=\"new_learning_rate\")\n",
    "        self._lr_update = tf.assign(self._lr, self._new_lr)\n",
    "\n",
    "    def assign_lr(self, session, lr_value):\n",
    "        session.run(self._lr_update, feed_dict={self._new_lr: lr_value})\n",
    "\n",
    "    @property\n",
    "    def input(self):\n",
    "        return self._input\n",
    "\n",
    "    @property\n",
    "    def initial_state(self):\n",
    "        return self._initial_state\n",
    "    @property\n",
    "    def encoded_state(self):\n",
    "        return self._encoded_state\n",
    "\n",
    "    @property\n",
    "    def cost(self):\n",
    "        return self._cost\n",
    "\n",
    "    @property\n",
    "    def decoded_state(self):\n",
    "        return self._decoded_state\n",
    "\n",
    "    @property\n",
    "    def lr(self):\n",
    "        return self._lr\n",
    "\n",
    "    @property\n",
    "    def train_op(self):\n",
    "        return self._train_op\n",
    "    @property\n",
    "    def probabilities(self):\n",
    "        return self._probabilties\n",
    "\n"
   ]
  },
  {
   "cell_type": "code",
   "execution_count": 4,
   "metadata": {
    "collapsed": false
   },
   "outputs": [],
   "source": [
    "def run_epoch(session, model, eval_op=None, verbose=False):\n",
    "    \"\"\"Run the model for a single epoch\"\"\"\n",
    "    start_time=time.time()\n",
    "    costs = 0.0\n",
    "    iters = 0\n",
    "    state = session.run(model.initial_state)\n",
    "    \n",
    "    fetches = {\n",
    "        \"cost\": model.cost,\n",
    "        \"encoded_state\": model.encoded_state,\n",
    "    }\n",
    "    if eval_op is not None:\n",
    "        fetches[\"eval_op\"] = eval_op\n",
    "    for step in range(model.input.epoch_size):\n",
    "        feed_dict={}\n",
    "        for i, (c,h) in enumerate(model.initial_state):\n",
    "            feed_dict[c] = state[i].c\n",
    "            feed_dict[h] = state[i].h\n",
    "        vals = session.run(fetches, feed_dict)\n",
    "        cost = vals[\"cost\"]\n",
    "        state = vals[\"encoded_state\"]\n",
    "        costs += cost\n",
    "        iters += model.input.num_steps_decoder\n",
    "        \n",
    "        if verbose and step % (model.input.epoch_size //10) ==10:\n",
    "            print(\"%.3f perplexity: %.3f speed %.0f nps\" %\n",
    "                 (step * 1.0/model.input.epoch_size, np.exp(costs / iters),\n",
    "                 iters * model.input.batch_size /(time.time()-start_time)))\n",
    "    return np.exp(costs / iters)"
   ]
  },
  {
   "cell_type": "markdown",
   "metadata": {
    "collapsed": false
   },
   "source": [
    "# Data generation"
   ]
  },
  {
   "cell_type": "code",
   "execution_count": 5,
   "metadata": {
    "collapsed": false
   },
   "outputs": [],
   "source": [
    "data_size = 10000\n",
    "seq_length = 10\n",
    "raw_data=reader.DNA_read(data_size,seq_length)"
   ]
  },
  {
   "cell_type": "markdown",
   "metadata": {},
   "source": [
    "# Training"
   ]
  },
  {
   "cell_type": "code",
   "execution_count": 6,
   "metadata": {
    "collapsed": false
   },
   "outputs": [
    {
     "name": "stderr",
     "output_type": "stream",
     "text": [
      "/usr/lib/python2.7/dist-packages/numpy/core/numeric.py:301: FutureWarning: in the future, full([10000, 10], 7) will return an array of dtype('int64')\n",
      "  format(shape, fill_value, array(fill_value).dtype), FutureWarning)\n",
      "/usr/lib/python2.7/dist-packages/numpy/core/numeric.py:301: FutureWarning: in the future, full([10000, 15], 7) will return an array of dtype('int64')\n",
      "  format(shape, fill_value, array(fill_value).dtype), FutureWarning)\n"
     ]
    },
    {
     "name": "stdout",
     "output_type": "stream",
     "text": [
      "Epoch: 1 Learning rate: 1.000\n",
      "0.010 perplexity: 9.844 speed 1228 nps\n",
      "0.110 perplexity: 2.127 speed 2379 nps\n",
      "0.210 perplexity: 1.602 speed 2870 nps\n",
      "0.310 perplexity: 1.432 speed 3105 nps\n",
      "0.410 perplexity: 1.346 speed 3239 nps\n",
      "0.510 perplexity: 1.292 speed 3329 nps\n",
      "0.610 perplexity: 1.253 speed 3391 nps\n",
      "0.710 perplexity: 1.224 speed 3438 nps\n",
      "0.810 perplexity: 1.198 speed 3474 nps\n",
      "0.910 perplexity: 1.175 speed 3503 nps\n",
      "Epoch: 1 Train Perplexity: 1.159\n",
      "Epoch: 2 Learning rate: 1.000\n",
      "0.010 perplexity: 1.000 speed 3700 nps\n",
      "0.110 perplexity: 1.000 speed 3739 nps\n",
      "0.210 perplexity: 1.000 speed 3745 nps\n",
      "0.310 perplexity: 1.000 speed 3744 nps\n",
      "0.410 perplexity: 1.000 speed 3744 nps\n",
      "0.510 perplexity: 1.000 speed 3747 nps\n",
      "0.610 perplexity: 1.000 speed 3747 nps\n",
      "0.710 perplexity: 1.000 speed 3748 nps\n",
      "0.810 perplexity: 1.000 speed 3748 nps\n",
      "0.910 perplexity: 1.000 speed 3744 nps\n",
      "Epoch: 2 Train Perplexity: 1.000\n",
      "Epoch: 3 Learning rate: 0.500\n",
      "0.010 perplexity: 1.000 speed 3649 nps\n",
      "0.110 perplexity: 1.000 speed 3728 nps\n",
      "0.210 perplexity: 1.000 speed 3729 nps\n",
      "0.310 perplexity: 1.000 speed 3728 nps\n",
      "0.410 perplexity: 1.000 speed 3729 nps\n",
      "0.510 perplexity: 1.000 speed 3729 nps\n",
      "0.610 perplexity: 1.000 speed 3729 nps\n",
      "0.710 perplexity: 1.000 speed 3729 nps\n",
      "0.810 perplexity: 1.000 speed 3729 nps\n",
      "0.910 perplexity: 1.000 speed 3731 nps\n",
      "Epoch: 3 Train Perplexity: 1.000\n",
      "Epoch: 4 Learning rate: 0.250\n",
      "0.010 perplexity: 1.000 speed 3635 nps\n",
      "0.110 perplexity: 1.000 speed 3721 nps\n",
      "0.210 perplexity: 1.000 speed 3718 nps\n",
      "0.310 perplexity: 1.000 speed 3720 nps\n",
      "0.410 perplexity: 1.000 speed 3720 nps\n",
      "0.510 perplexity: 1.000 speed 3724 nps\n",
      "0.610 perplexity: 1.000 speed 3724 nps\n",
      "0.710 perplexity: 1.000 speed 3723 nps\n",
      "0.810 perplexity: 1.000 speed 3721 nps\n",
      "0.910 perplexity: 1.000 speed 3723 nps\n",
      "Epoch: 4 Train Perplexity: 1.000\n",
      "Epoch: 5 Learning rate: 0.125\n",
      "0.010 perplexity: 1.000 speed 3659 nps\n",
      "0.110 perplexity: 1.000 speed 3705 nps\n",
      "0.210 perplexity: 1.000 speed 3717 nps\n",
      "0.310 perplexity: 1.000 speed 3728 nps\n",
      "0.410 perplexity: 1.000 speed 3733 nps\n",
      "0.510 perplexity: 1.000 speed 3731 nps\n",
      "0.610 perplexity: 1.000 speed 3732 nps\n",
      "0.710 perplexity: 1.000 speed 3732 nps\n",
      "0.810 perplexity: 1.000 speed 3733 nps\n",
      "0.910 perplexity: 1.000 speed 3731 nps\n",
      "Epoch: 5 Train Perplexity: 1.000\n"
     ]
    }
   ],
   "source": [
    "config = get_config()\n",
    "with tf.Graph().as_default():\n",
    "    initializer = tf.random_uniform_initializer(-config.init_scale,\n",
    "                                               config.init_scale)\n",
    "    with tf.name_scope(\"Train\"):\n",
    "        train_input = DNA_input(config, raw_data, \"TrainInput\")\n",
    "        with tf.variable_scope(\"Model\", reuse=None, initializer=initializer):\n",
    "            m = DNA_seq_model(is_training=True, config=config, input_=train_input)\n",
    "    sv = tf.train.Supervisor(logdir='test2')\n",
    "    with sv.managed_session() as session:\n",
    "        for i in range(config.max_max_epochs):\n",
    "            lr_decay = config.lr_decay ** max(i+1-config.max_epochs, 0.0)\n",
    "            m.assign_lr(session, config.learning_rate * lr_decay)\n",
    "            print(\"Epoch: %d Learning rate: %.3f\" % (i + 1, session.run(m.lr)))\n",
    "            train_perplexity = run_epoch(session, m, eval_op=m.train_op,\n",
    "                                         verbose=True)\n",
    "            print(\"Epoch: %d Train Perplexity: %.3f\" % (i + 1, train_perplexity))\n",
    "            "
   ]
  },
  {
   "cell_type": "code",
   "execution_count": 7,
   "metadata": {
    "collapsed": false,
    "scrolled": true
   },
   "outputs": [],
   "source": [
    "# x = reader.DNA_read(10000,10,4)\n",
    "# x1,x2,x3 = reader.DNA_producer(x, get_config())"
   ]
  },
  {
   "cell_type": "code",
   "execution_count": null,
   "metadata": {
    "collapsed": false
   },
   "outputs": [],
   "source": []
  },
  {
   "cell_type": "code",
   "execution_count": 8,
   "metadata": {
    "collapsed": false
   },
   "outputs": [],
   "source": [
    "# sv = tf.train.Supervisor(logdir='test2')\n",
    "# with sv.managed_session() as session:\n",
    "#     a,b,c = session.run([x1,x2,x3])\n",
    "# #     b = x2.eval(session=session)\n",
    "# #     c = x3.eval(session=session)\n",
    "#     print(a)\n",
    "#     print(b)\n",
    "#     print(c)"
   ]
  },
  {
   "cell_type": "code",
   "execution_count": null,
   "metadata": {
    "collapsed": false
   },
   "outputs": [],
   "source": []
  },
  {
   "cell_type": "code",
   "execution_count": null,
   "metadata": {
    "collapsed": false
   },
   "outputs": [],
   "source": []
  },
  {
   "cell_type": "code",
   "execution_count": null,
   "metadata": {
    "collapsed": false
   },
   "outputs": [],
   "source": []
  },
  {
   "cell_type": "code",
   "execution_count": null,
   "metadata": {
    "collapsed": false
   },
   "outputs": [],
   "source": []
  },
  {
   "cell_type": "code",
   "execution_count": null,
   "metadata": {
    "collapsed": true
   },
   "outputs": [],
   "source": []
  }
 ],
 "metadata": {
  "kernelspec": {
   "display_name": "Python 2",
   "language": "python",
   "name": "python2"
  },
  "language_info": {
   "codemirror_mode": {
    "name": "ipython",
    "version": 2
   },
   "file_extension": ".py",
   "mimetype": "text/x-python",
   "name": "python",
   "nbconvert_exporter": "python",
   "pygments_lexer": "ipython2",
   "version": "2.7.12"
  }
 },
 "nbformat": 4,
 "nbformat_minor": 1
}
