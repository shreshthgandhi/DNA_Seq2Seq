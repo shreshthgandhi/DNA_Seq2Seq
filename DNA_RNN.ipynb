{
 "cells": [
  {
   "cell_type": "code",
   "execution_count": 1,
   "metadata": {
    "collapsed": false
   },
   "outputs": [],
   "source": [
    "import tensorflow as tf\n",
    "import numpy as np\n",
    "import DNA_reader as reader\n",
    "import time\n",
    "import matplotlib.pyplot as plt\n",
    "import matplotlib.image as mpimg\n",
    "%matplotlib inline"
   ]
  },
  {
   "cell_type": "code",
   "execution_count": 2,
   "metadata": {
    "collapsed": true
   },
   "outputs": [],
   "source": [
    "class SmallConfig(object):\n",
    "    \"\"\"Small Configuration\"\"\"\n",
    "    learning_rate = 1.0\n",
    "    max_grad_norm = 5\n",
    "    num_layers = 2\n",
    "    num_steps_encoder = 10\n",
    "    num_steps_decoder = 15\n",
    "    batch_size = 10\n",
    "    hidden_size = 200\n",
    "    max_epochs = 2\n",
    "    max_max_epochs = 4\n",
    "    lr_decay = 0.5\n",
    "    init_scale = 0.1\n",
    "    vocab_size = 8 # 3 extra tokens PAD,GO and EOS and 0 is unused\n",
    "    compression_dims = 2\n",
    "\n",
    "def get_config(flag='small'):\n",
    "    if flag=='small':\n",
    "        return SmallConfig()"
   ]
  },
  {
   "cell_type": "markdown",
   "metadata": {},
   "source": [
    "# Input and Model classes"
   ]
  },
  {
   "cell_type": "code",
   "execution_count": 3,
   "metadata": {
    "collapsed": false
   },
   "outputs": [],
   "source": [
    "def data_type():\n",
    "    return tf.float32\n",
    "\n",
    "class DNA_input(object):\n",
    "    def __init__(self, config, data, name=None):\n",
    "        self.batch_size = batch_size = config.batch_size\n",
    "        self.num_steps_encoder = num_steps_encoder = config.num_steps_encoder\n",
    "        self.num_steps_decoder = num_steps_decoder = config.num_steps_decoder\n",
    "        self.epoch_size = len(data[0])//batch_size\n",
    "        (self.encoder_input, self.decoder_input,\n",
    "        self.decoder_targets, self.labels) = reader.DNA_producer(data, config, name)\n",
    "\n",
    "class DNA_seq_model(object):\n",
    "    def __init__(self, is_training, config, input_):\n",
    "        self._input = input_\n",
    "        batch_size = input_.batch_size\n",
    "        num_steps_encoder = input_.num_steps_encoder\n",
    "        num_steps_decoder = input_.num_steps_decoder\n",
    "        num_layers = config.num_layers\n",
    "        size = config.hidden_size\n",
    "        vocab_size = config.vocab_size\n",
    "        \n",
    "        lstm_cell = tf.nn.rnn_cell.BasicLSTMCell(size, forget_bias=0.0, state_is_tuple=True)\n",
    "        cell = tf.nn.rnn_cell.MultiRNNCell([lstm_cell] * num_layers, state_is_tuple=True)\n",
    "        self._initial_state = cell.zero_state(batch_size, data_type())\n",
    "        \n",
    "        softmax_w = tf.get_variable(\"softmax_w\", [size, vocab_size], dtype=data_type())\n",
    "        softmax_b = tf.get_variable(\"softmax_b\", [vocab_size], dtype=data_type())\n",
    "\n",
    "        with tf.device(\"/cpu:0\"):\n",
    "            embedding = tf.get_variable(\n",
    "                    \"embedding\", [vocab_size, size], dtype=data_type())\n",
    "            encoder_inputs = tf.nn.embedding_lookup(embedding, input_.encoder_input)\n",
    "            decoder_inputs = tf.nn.embedding_lookup(embedding, input_.decoder_input)\n",
    "        \n",
    "        def loop(prev, _):\n",
    "            prev = tf.matmul(prev, softmax_w) + softmax_b\n",
    "            prev_symbol = tf.stop_gradient(tf.argmax(prev, 1))\n",
    "            return tf.nn.embedding_lookup(embedding, prev_symbol)\n",
    " \n",
    "        compression_dims = config.compression_dims\n",
    "        encoder_outputs =[]\n",
    "        state = self._initial_state\n",
    "        with tf.variable_scope(\"RNN_encoder\"):\n",
    "            for time_step in range(num_steps_encoder):\n",
    "                if time_step > 0: tf.get_variable_scope().reuse_variables()\n",
    "                (cell_output, state) = cell(encoder_inputs[:, time_step, :], state)\n",
    "                encoder_outputs.append(cell_output)\n",
    "#         with tf.variable_scope(\"state_transform\"):\n",
    "        W_compress = tf.get_variable(\"W_compress\", [2*num_layers*size, compression_dims], dtype=data_type())\n",
    "        b_compress = tf.get_variable(\"bcompress\", [compression_dims], dtype=data_type())\n",
    "        W_expand = tf.get_variable(\"W_expand\", [compression_dims,2*num_layers*size], dtype=data_type())\n",
    "        b_expand = tf.get_variable(\"b_expand\", [2*num_layers*size], dtype=data_type())\n",
    "        \n",
    "        self._encoded_state = state\n",
    "        self.compressed_state = tf.reshape(tf.transpose(tf.pack(state),[0,1,3,2]),[-1,batch_size])\n",
    "        self.compressed_state = tf.transpose(self.compressed_state,[1,0])\n",
    "        \n",
    "        self._hidden_state = hidden_state = tf.matmul(self.compressed_state, W_compress) + b_compress\n",
    "        expanded_state = tf.matmul(hidden_state, W_expand) + b_expand\n",
    "        expanded_state = tf.reshape(tf.transpose(expanded_state,[1,0]),[num_layers,2,size,-1])\n",
    "        expanded_state = tf.transpose(expanded_state,[0,1,3,2])\n",
    "        expanded_state = tf.unpack(expanded_state, axis=0)\n",
    "        state_list = []\n",
    "        for i,layer in enumerate(expanded_state):\n",
    "            state_list.append(tuple(tf.unpack(layer, axis=0)))\n",
    "        \n",
    "        self.recovered_state = tuple(state_list)\n",
    "\n",
    "        expanded_state= self.recovered_state\n",
    "        \n",
    "        decoder_inputs_list = tf.unpack(decoder_inputs, axis=1)\n",
    "        (decoder_outputs, state) = tf.nn.seq2seq.rnn_decoder(decoder_inputs_list, expanded_state, cell, \n",
    "                                                             loop_function=loop if not(is_training) else None)\n",
    "        decoder_output = tf.reshape(tf.concat(1, decoder_outputs), [-1, size])\n",
    "\n",
    "        logits = tf.matmul(decoder_output, softmax_w) + softmax_b\n",
    "        self._probabilities = tf.reshape(tf.nn.softmax(logits), [batch_size, num_steps_decoder, vocab_size])\n",
    "        \n",
    "        loss = tf.nn.seq2seq.sequence_loss_by_example(\n",
    "                [logits],\n",
    "                [tf.reshape(input_.decoder_targets, [-1])],\n",
    "                [tf.ones([batch_size * num_steps_decoder], dtype=data_type())])\n",
    "        self._cost = cost = tf.reduce_sum(loss) / batch_size\n",
    "        self._decoded_state = state\n",
    "        \n",
    "        if not is_training:\n",
    "            return\n",
    "\n",
    "        self._lr = tf.Variable(0.0, trainable=False)\n",
    "        tvars = tf.trainable_variables()\n",
    "        grads, _ = tf.clip_by_global_norm(tf.gradients(cost, tvars),config.max_grad_norm)\n",
    "        optimizer = tf.train.GradientDescentOptimizer(self._lr)\n",
    "        self._train_op = optimizer.apply_gradients(\n",
    "                zip(grads, tvars),\n",
    "                global_step=tf.contrib.framework.get_or_create_global_step())\n",
    "\n",
    "        self._new_lr = tf.placeholder(\n",
    "                tf.float32, shape=[], name=\"new_learning_rate\")\n",
    "        self._lr_update = tf.assign(self._lr, self._new_lr)\n",
    "\n",
    "    def assign_lr(self, session, lr_value):\n",
    "        session.run(self._lr_update, feed_dict={self._new_lr: lr_value})\n",
    "\n",
    "    @property\n",
    "    def input(self):\n",
    "        return self._input\n",
    "\n",
    "    @property\n",
    "    def initial_state(self):\n",
    "        return self._initial_state\n",
    "    @property\n",
    "    def encoded_state(self):\n",
    "        return self._encoded_state\n",
    "\n",
    "    @property\n",
    "    def cost(self):\n",
    "        return self._cost\n",
    "\n",
    "    @property\n",
    "    def decoded_state(self):\n",
    "        return self._decoded_state\n",
    "    @property\n",
    "    def hidden_state(self):\n",
    "        return self._hidden_state\n",
    "\n",
    "    @property\n",
    "    def lr(self):\n",
    "        return self._lr\n",
    "\n",
    "    @property\n",
    "    def train_op(self):\n",
    "        return self._train_op\n",
    "    @property\n",
    "    def probabilities(self):\n",
    "        return self._probabilties\n",
    "\n"
   ]
  },
  {
   "cell_type": "code",
   "execution_count": 4,
   "metadata": {
    "collapsed": false
   },
   "outputs": [],
   "source": [
    "def run_epoch(session, model, eval_op=None, verbose=False):\n",
    "    \"\"\"Run the model for a single epoch\"\"\"\n",
    "    start_time=time.time()\n",
    "    costs = 0.0\n",
    "    iters = 0\n",
    "    state = session.run(model.initial_state)\n",
    "    \n",
    "    fetches = {\n",
    "        \"cost\": model.cost,\n",
    "        \"encoded_state\": model.encoded_state,\n",
    "    }\n",
    "    if eval_op is not None:\n",
    "        fetches[\"eval_op\"] = eval_op\n",
    "    for step in range(model.input.epoch_size):\n",
    "        feed_dict={}\n",
    "        for i, (c,h) in enumerate(model.initial_state):\n",
    "            feed_dict[c] = state[i].c\n",
    "            feed_dict[h] = state[i].h\n",
    "        vals = session.run(fetches, feed_dict)\n",
    "        cost = vals[\"cost\"]\n",
    "#         state = vals[\"encoded_state\"]\n",
    "        costs += cost\n",
    "        iters += model.input.num_steps_decoder\n",
    "        \n",
    "        if verbose and step % (model.input.epoch_size //10) ==10:\n",
    "            print(\"%.3f perplexity: %.3f speed %.0f nps\" %\n",
    "                 (step * 1.0/model.input.epoch_size, np.exp(costs / iters),\n",
    "                 iters * model.input.batch_size /(time.time()-start_time)))\n",
    "    return np.exp(costs / iters)"
   ]
  },
  {
   "cell_type": "code",
   "execution_count": 5,
   "metadata": {
    "collapsed": false
   },
   "outputs": [],
   "source": [
    "def visualize_states(session, model, config):\n",
    "    state = session.run(model.initial_state)\n",
    "    fetches = {\n",
    "        \"hidden_state\" : model.hidden_state,\n",
    "        \"labels\" : model.input.labels,\n",
    "    }\n",
    "    batch_size = model.input.batch_size\n",
    "    epoch_size = model.input.epoch_size\n",
    "    hidden_state = np.zeros([model.input.epoch_size*model.input.batch_size, config.compression_dims])\n",
    "    labels = np.zeros([model.input.epoch_size*model.input.batch_size])\n",
    "    for step in range(model.input.epoch_size):\n",
    "        feed_dict={}\n",
    "        for i, (c,h) in enumerate(model.initial_state):\n",
    "            feed_dict[c] = state[i].c\n",
    "            feed_dict[h] = state[i].h\n",
    "        vals = session.run(fetches, feed_dict)\n",
    "        hidden_state[step*batch_size:(step+1)*batch_size] = vals[\"hidden_state\"]\n",
    "        labels[step*batch_size:(step+1)*batch_size] = vals[\"labels\"]\n",
    "    x_hidden = hidden_state[:,0]\n",
    "    x_max = np.max(abs(x_hidden))\n",
    "    x_hidden = (x_hidden / x_max) * 100\n",
    "    y_hidden = hidden_state[:,1]\n",
    "    y_max = np.max(abs(y_hidden))\n",
    "    y_hidden = (y_hidden / y_max) * 100\n",
    "    plt.figure(0)\n",
    "    plt.scatter(x_hidden, y_hidden, s=10, c=labels)\n",
    "    plt.title('Hidden States of system')\n",
    "    return x_hidden, y_hidden, labels\n",
    "        \n",
    "    "
   ]
  },
  {
   "cell_type": "markdown",
   "metadata": {
    "collapsed": false
   },
   "source": [
    "# Data generation"
   ]
  },
  {
   "cell_type": "code",
   "execution_count": 6,
   "metadata": {
    "collapsed": false
   },
   "outputs": [],
   "source": [
    "data_size = 10000\n",
    "seq_length = 10\n",
    "raw_data=reader.DNA_read(data_size,seq_length)"
   ]
  },
  {
   "cell_type": "markdown",
   "metadata": {},
   "source": [
    "# Training"
   ]
  },
  {
   "cell_type": "code",
   "execution_count": 7,
   "metadata": {
    "collapsed": false
   },
   "outputs": [
    {
     "name": "stderr",
     "output_type": "stream",
     "text": [
      "/usr/lib/python2.7/dist-packages/numpy/core/numeric.py:301: FutureWarning: in the future, full([10000, 10], 7) will return an array of dtype('int64')\n",
      "  format(shape, fill_value, array(fill_value).dtype), FutureWarning)\n",
      "/usr/lib/python2.7/dist-packages/numpy/core/numeric.py:301: FutureWarning: in the future, full([10000, 15], 7) will return an array of dtype('int64')\n",
      "  format(shape, fill_value, array(fill_value).dtype), FutureWarning)\n"
     ]
    },
    {
     "name": "stdout",
     "output_type": "stream",
     "text": [
      "Epoch: 1 Learning rate: 1.000\n",
      "0.010 perplexity: 10.480 speed 1351 nps\n",
      "0.110 perplexity: 2.571 speed 3011 nps\n",
      "0.210 perplexity: 1.811 speed 3634 nps\n",
      "0.310 perplexity: 1.591 speed 3976 nps\n",
      "0.410 perplexity: 1.469 speed 4128 nps\n",
      "0.510 perplexity: 1.390 speed 4271 nps\n",
      "0.610 perplexity: 1.338 speed 4381 nps\n",
      "0.710 perplexity: 1.326 speed 4467 nps\n",
      "0.810 perplexity: 1.306 speed 4534 nps\n",
      "0.910 perplexity: 1.288 speed 4559 nps\n",
      "Epoch: 1 Train Perplexity: 1.271\n",
      "Epoch: 2 Learning rate: 1.000\n",
      "0.010 perplexity: 1.186 speed 5415 nps\n",
      "0.110 perplexity: 1.112 speed 5078 nps\n",
      "0.210 perplexity: 1.127 speed 4991 nps\n",
      "0.310 perplexity: 1.110 speed 4992 nps\n",
      "0.410 perplexity: 1.132 speed 4948 nps\n",
      "0.510 perplexity: 1.157 speed 4911 nps\n",
      "0.610 perplexity: 1.168 speed 4914 nps\n",
      "0.710 perplexity: 1.205 speed 4906 nps\n",
      "0.810 perplexity: 1.214 speed 4943 nps\n",
      "0.910 perplexity: 1.213 speed 4935 nps\n",
      "Epoch: 2 Train Perplexity: 1.206\n",
      "Epoch: 3 Learning rate: 0.500\n",
      "0.010 perplexity: 1.075 speed 5412 nps\n",
      "0.110 perplexity: 1.076 speed 5055 nps\n",
      "0.210 perplexity: 1.096 speed 5056 nps\n",
      "0.310 perplexity: 1.095 speed 4973 nps\n",
      "0.410 perplexity: 1.094 speed 5012 nps\n",
      "0.510 perplexity: 1.101 speed 5070 nps\n",
      "0.610 perplexity: 1.107 speed 5124 nps\n",
      "0.710 perplexity: 1.122 speed 5161 nps\n",
      "0.810 perplexity: 1.131 speed 5184 nps\n",
      "0.910 perplexity: 1.135 speed 5206 nps\n",
      "Epoch: 3 Train Perplexity: 1.136\n",
      "Epoch: 4 Learning rate: 0.250\n",
      "0.010 perplexity: 1.076 speed 5413 nps\n",
      "0.110 perplexity: 1.051 speed 5419 nps\n",
      "0.210 perplexity: 1.057 speed 5418 nps\n",
      "0.310 perplexity: 1.054 speed 5247 nps\n",
      "0.410 perplexity: 1.058 speed 5107 nps\n",
      "0.510 perplexity: 1.052 speed 5152 nps\n",
      "0.610 perplexity: 1.045 speed 5161 nps\n",
      "0.710 perplexity: 1.040 speed 5187 nps\n",
      "0.810 perplexity: 1.036 speed 5181 nps\n",
      "0.910 perplexity: 1.033 speed 5156 nps\n",
      "Epoch: 4 Train Perplexity: 1.031\n",
      "[  5.30753702 -23.06059006  12.98693629 ...,   5.30753702  -1.07322165\n",
      "  13.82625257]\n"
     ]
    },
    {
     "data": {
      "image/png": "[encoded data removed]",
      "text/plain": [
       "<matplotlib.figure.Figure at 0x7f47f57dcf10>"
      ]
     },
     "metadata": {},
     "output_type": "display_data"
    }
   ],
   "source": [
    "config = get_config()\n",
    "with tf.Graph().as_default():\n",
    "    initializer = tf.random_uniform_initializer(-config.init_scale,\n",
    "                                               config.init_scale)\n",
    "    with tf.name_scope(\"Train\"):\n",
    "        train_input = DNA_input(config, raw_data, \"TrainInput\")\n",
    "        with tf.variable_scope(\"Model\", reuse=None, initializer=initializer):\n",
    "            m = DNA_seq_model(is_training=True, config=config, input_=train_input)\n",
    "    sv = tf.train.Supervisor(logdir='test2')\n",
    "    with sv.managed_session() as session:\n",
    "        for i in range(config.max_max_epochs):\n",
    "            lr_decay = config.lr_decay ** max(i+1-config.max_epochs, 0.0)\n",
    "            m.assign_lr(session, config.learning_rate * lr_decay)\n",
    "#             print(session.run(m.recovered_state[0]).shape)\n",
    "            print(\"Epoch: %d Learning rate: %.3f\" % (i + 1, session.run(m.lr)))\n",
    "            train_perplexity = run_epoch(session, m, eval_op=m.train_op,\n",
    "                                         verbose=True)\n",
    "            print(\"Epoch: %d Train Perplexity: %.3f\" % (i + 1, train_perplexity))\n",
    "        x,y,l = visualize_states(session, m, config)\n",
    "        \n",
    "            "
   ]
  },
  {
   "cell_type": "code",
   "execution_count": 11,
   "metadata": {
    "collapsed": false,
    "scrolled": true
   },
   "outputs": [
    {
     "data": {
      "text/plain": [
       "10000"
      ]
     },
     "execution_count": 11,
     "metadata": {},
     "output_type": "execute_result"
    }
   ],
   "source": [
    "len(l)"
   ]
  },
  {
   "cell_type": "code",
   "execution_count": null,
   "metadata": {
    "collapsed": false
   },
   "outputs": [],
   "source": []
  },
  {
   "cell_type": "code",
   "execution_count": 9,
   "metadata": {
    "collapsed": false
   },
   "outputs": [
    {
     "ename": "NameError",
     "evalue": "name 'x1' is not defined",
     "output_type": "error",
     "traceback": [
      "\u001b[0;31m---------------------------------------------------------------------------\u001b[0m",
      "\u001b[0;31mNameError\u001b[0m                                 Traceback (most recent call last)",
      "\u001b[0;32m<ipython-input-9-2fd7a4bf3f15>\u001b[0m in \u001b[0;36m<module>\u001b[0;34m()\u001b[0m\n\u001b[1;32m      1\u001b[0m \u001b[0msv\u001b[0m \u001b[0;34m=\u001b[0m \u001b[0mtf\u001b[0m\u001b[0;34m.\u001b[0m\u001b[0mtrain\u001b[0m\u001b[0;34m.\u001b[0m\u001b[0mSupervisor\u001b[0m\u001b[0;34m(\u001b[0m\u001b[0mlogdir\u001b[0m\u001b[0;34m=\u001b[0m\u001b[0;34m'test2'\u001b[0m\u001b[0;34m)\u001b[0m\u001b[0;34m\u001b[0m\u001b[0m\n\u001b[1;32m      2\u001b[0m \u001b[0;32mwith\u001b[0m \u001b[0msv\u001b[0m\u001b[0;34m.\u001b[0m\u001b[0mmanaged_session\u001b[0m\u001b[0;34m(\u001b[0m\u001b[0;34m)\u001b[0m \u001b[0;32mas\u001b[0m \u001b[0msession\u001b[0m\u001b[0;34m:\u001b[0m\u001b[0;34m\u001b[0m\u001b[0m\n\u001b[0;32m----> 3\u001b[0;31m     \u001b[0ma\u001b[0m\u001b[0;34m,\u001b[0m\u001b[0mb\u001b[0m\u001b[0;34m,\u001b[0m\u001b[0mc\u001b[0m\u001b[0;34m,\u001b[0m\u001b[0md\u001b[0m \u001b[0;34m=\u001b[0m \u001b[0msession\u001b[0m\u001b[0;34m.\u001b[0m\u001b[0mrun\u001b[0m\u001b[0;34m(\u001b[0m\u001b[0;34m[\u001b[0m\u001b[0mx1\u001b[0m\u001b[0;34m,\u001b[0m\u001b[0mx2\u001b[0m\u001b[0;34m,\u001b[0m\u001b[0mx3\u001b[0m\u001b[0;34m,\u001b[0m\u001b[0mx4\u001b[0m\u001b[0;34m]\u001b[0m\u001b[0;34m)\u001b[0m\u001b[0;34m\u001b[0m\u001b[0m\n\u001b[0m\u001b[1;32m      4\u001b[0m \u001b[0;31m#     b = x2.eval(session=session)\u001b[0m\u001b[0;34m\u001b[0m\u001b[0;34m\u001b[0m\u001b[0m\n\u001b[1;32m      5\u001b[0m \u001b[0;31m#     c = x3.eval(session=session)\u001b[0m\u001b[0;34m\u001b[0m\u001b[0;34m\u001b[0m\u001b[0m\n",
      "\u001b[0;31mNameError\u001b[0m: name 'x1' is not defined"
     ]
    }
   ],
   "source": [
    "sv = tf.train.Supervisor(logdir='test2')\n",
    "with sv.managed_session() as session:\n",
    "    a,b,c,d = session.run([x1,x2,x3,x4])\n",
    "#     b = x2.eval(session=session)\n",
    "#     c = x3.eval(session=session)\n",
    "    print(a)\n",
    "    print(b)\n",
    "    print(c)\n",
    "    print(d)"
   ]
  },
  {
   "cell_type": "code",
   "execution_count": null,
   "metadata": {
    "collapsed": false
   },
   "outputs": [],
   "source": [
    "a=(1,2)\n",
    "b=(a[0]*1)"
   ]
  },
  {
   "cell_type": "code",
   "execution_count": null,
   "metadata": {
    "collapsed": false
   },
   "outputs": [],
   "source": []
  },
  {
   "cell_type": "code",
   "execution_count": null,
   "metadata": {
    "collapsed": false
   },
   "outputs": [],
   "source": []
  },
  {
   "cell_type": "code",
   "execution_count": null,
   "metadata": {
    "collapsed": false
   },
   "outputs": [],
   "source": []
  },
  {
   "cell_type": "code",
   "execution_count": null,
   "metadata": {
    "collapsed": true
   },
   "outputs": [],
   "source": []
  }
 ],
 "metadata": {
  "kernelspec": {
   "display_name": "Python 2",
   "language": "python",
   "name": "python2"
  },
  "language_info": {
   "codemirror_mode": {
    "name": "ipython",
    "version": 2
   },
   "file_extension": ".py",
   "mimetype": "text/x-python",
   "name": "python",
   "nbconvert_exporter": "python",
   "pygments_lexer": "ipython2",
   "version": "2.7.12"
  }
 },
 "nbformat": 4,
 "nbformat_minor": 1
}
